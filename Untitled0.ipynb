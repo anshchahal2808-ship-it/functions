{
  "nbformat": 4,
  "nbformat_minor": 0,
  "metadata": {
    "colab": {
      "provenance": []
    },
    "kernelspec": {
      "name": "python3",
      "display_name": "Python 3"
    },
    "language_info": {
      "name": "python"
    }
  },
  "cells": [
    {
      "cell_type": "code",
      "execution_count": null,
      "metadata": {
        "id": "FVHqhmXSf_MN"
      },
      "outputs": [],
      "source": []
    },
    {
      "cell_type": "markdown",
      "source": [
        "1 bjkfbjkshnfklndilihilill\n",
        "  - hkhihnihuhinijnijm"
      ],
      "metadata": {
        "id": "xHNzfO6FgyV1"
      }
    },
    {
      "cell_type": "code",
      "source": [],
      "metadata": {
        "id": "wArICI-kgyEP"
      },
      "execution_count": null,
      "outputs": []
    },
    {
      "cell_type": "markdown",
      "source": [
        "2 second question\n",
        "  - answer is thus"
      ],
      "metadata": {
        "id": "Rj6YHi0Cie4T"
      }
    },
    {
      "cell_type": "markdown",
      "source": [],
      "metadata": {
        "id": "lKHRxXFKg5Rn"
      }
    }
  ]
}